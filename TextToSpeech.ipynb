{
 "cells": [
  {
   "cell_type": "code",
   "execution_count": null,
   "id": "2daba505-a111-4d3e-ad89-cda41f2c937b",
   "metadata": {},
   "outputs": [],
   "source": [
    "!pip install pyttsx3\n"
   ]
  },
  {
   "cell_type": "code",
   "execution_count": 1,
   "id": "3342a47d-17b1-4335-8e8b-64b9f65a1a8f",
   "metadata": {},
   "outputs": [
    {
     "name": "stdout",
     "output_type": "stream",
     "text": [
      "============================================================\n",
      "Welcome to Gemini Chat + Voice (Free API Key Edition)\n",
      "Type 'quit' to exit\n",
      "============================================================\n",
      "Gemini: The current president of India is **Droupadi Murmu**.\n",
      "Speaking...\n",
      "Goodbye!\n"
     ]
    }
   ],
   "source": [
    "import os\n",
    "import pyttsx3\n",
    "from dotenv import load_dotenv\n",
    "import google.generativeai as genai\n",
    "\n",
    "class GeminiTTSBot:\n",
    "    def __init__(self):\n",
    "        load_dotenv()\n",
    "        api_key = os.getenv(\"GEMINI_API_KEY\")\n",
    "\n",
    "        if not api_key:\n",
    "            raise ValueError(\"Please set GEMINI_API_KEY in the .env file.\")\n",
    "\n",
    "        genai.configure(api_key=api_key)\n",
    "        self.model = genai.GenerativeModel(\"gemini-2.0-flash\")\n",
    "        self.engine = pyttsx3.init()\n",
    "\n",
    "        # Optional: Customize voice rate and volume\n",
    "        self.engine.setProperty('rate', 170)   # speaking speed\n",
    "        self.engine.setProperty('volume', 1.0) # volume (0.0 to 1.0)\n",
    "\n",
    "    def speak(self, text):\n",
    "        \"\"\"Convert text to speech using pyttsx3\"\"\"\n",
    "        print(\"Speaking...\")\n",
    "        self.engine.say(text)\n",
    "        self.engine.runAndWait()\n",
    "\n",
    "    def chat(self, prompt):\n",
    "        \"\"\"Get Gemini's response to the prompt\"\"\"\n",
    "        try:\n",
    "            response = self.model.generate_content(prompt)\n",
    "            return response.text.strip()\n",
    "        except Exception as e:\n",
    "            print(f\"Error from Gemini: {e}\")\n",
    "            return None\n",
    "\n",
    "    def run(self):\n",
    "        print(\"=\"*60)\n",
    "        print(\"Welcome to Gemini Chat + Voice (Free API Key Edition)\")\n",
    "        print(\"Type 'quit' to exit\")\n",
    "        print(\"=\"*60)\n",
    "\n",
    "        while True:\n",
    "            user_input = input(\"\\nYou: Type quit to exit \")\n",
    "            if user_input.lower() == \"quit\":\n",
    "                print(\"Goodbye!\")\n",
    "                break\n",
    "\n",
    "            response = self.chat(user_input)\n",
    "            if response:\n",
    "                print(f\"Gemini: {response}\")\n",
    "                self.speak(response)\n",
    "            else:\n",
    "                print(\"Gemini could not generate a response.\")\n",
    "\n",
    "if __name__ == \"__main__\":\n",
    "    bot = GeminiTTSBot()\n",
    "    bot.run()\n"
   ]
  }
 ],
 "metadata": {
  "kernelspec": {
   "display_name": "Python 3",
   "language": "python",
   "name": "python3"
  },
  "language_info": {
   "codemirror_mode": {
    "name": "ipython",
    "version": 3
   },
   "file_extension": ".py",
   "mimetype": "text/x-python",
   "name": "python",
   "nbconvert_exporter": "python",
   "pygments_lexer": "ipython3",
   "version": "3.13.1"
  }
 },
 "nbformat": 4,
 "nbformat_minor": 5
}
