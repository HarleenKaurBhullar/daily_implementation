{
 "cells": [
  {
   "cell_type": "code",
   "execution_count": 2,
   "id": "072c64f0",
   "metadata": {},
   "outputs": [
    {
     "name": "stdout",
     "output_type": "stream",
     "text": [
      "Requirement already satisfied: langchain in /home/harleen/anaconda3/envs/dscodecamp/lib/python3.13/site-packages (0.3.26)\n",
      "Requirement already satisfied: langchain-google-genai in /home/harleen/anaconda3/envs/dscodecamp/lib/python3.13/site-packages (2.1.7)\n",
      "Requirement already satisfied: google-generativeai in /home/harleen/anaconda3/envs/dscodecamp/lib/python3.13/site-packages (0.8.5)\n",
      "Requirement already satisfied: langchain-core<1.0.0,>=0.3.66 in /home/harleen/anaconda3/envs/dscodecamp/lib/python3.13/site-packages (from langchain) (0.3.68)\n",
      "Requirement already satisfied: langchain-text-splitters<1.0.0,>=0.3.8 in /home/harleen/anaconda3/envs/dscodecamp/lib/python3.13/site-packages (from langchain) (0.3.8)\n",
      "Requirement already satisfied: langsmith>=0.1.17 in /home/harleen/anaconda3/envs/dscodecamp/lib/python3.13/site-packages (from langchain) (0.4.5)\n",
      "Requirement already satisfied: pydantic<3.0.0,>=2.7.4 in /home/harleen/anaconda3/envs/dscodecamp/lib/python3.13/site-packages (from langchain) (2.11.7)\n",
      "Requirement already satisfied: SQLAlchemy<3,>=1.4 in /home/harleen/anaconda3/envs/dscodecamp/lib/python3.13/site-packages (from langchain) (2.0.41)\n",
      "Requirement already satisfied: requests<3,>=2 in /home/harleen/anaconda3/envs/dscodecamp/lib/python3.13/site-packages (from langchain) (2.32.4)\n",
      "Requirement already satisfied: PyYAML>=5.3 in /home/harleen/anaconda3/envs/dscodecamp/lib/python3.13/site-packages (from langchain) (6.0.2)\n",
      "Requirement already satisfied: tenacity!=8.4.0,<10.0.0,>=8.1.0 in /home/harleen/anaconda3/envs/dscodecamp/lib/python3.13/site-packages (from langchain-core<1.0.0,>=0.3.66->langchain) (9.1.2)\n",
      "Requirement already satisfied: jsonpatch<2.0,>=1.33 in /home/harleen/anaconda3/envs/dscodecamp/lib/python3.13/site-packages (from langchain-core<1.0.0,>=0.3.66->langchain) (1.33)\n",
      "Requirement already satisfied: packaging<25,>=23.2 in /home/harleen/anaconda3/envs/dscodecamp/lib/python3.13/site-packages (from langchain-core<1.0.0,>=0.3.66->langchain) (24.2)\n",
      "Requirement already satisfied: typing-extensions>=4.7 in /home/harleen/anaconda3/envs/dscodecamp/lib/python3.13/site-packages (from langchain-core<1.0.0,>=0.3.66->langchain) (4.12.2)\n",
      "Requirement already satisfied: jsonpointer>=1.9 in /home/harleen/anaconda3/envs/dscodecamp/lib/python3.13/site-packages (from jsonpatch<2.0,>=1.33->langchain-core<1.0.0,>=0.3.66->langchain) (3.0.0)\n",
      "Requirement already satisfied: annotated-types>=0.6.0 in /home/harleen/anaconda3/envs/dscodecamp/lib/python3.13/site-packages (from pydantic<3.0.0,>=2.7.4->langchain) (0.7.0)\n",
      "Requirement already satisfied: pydantic-core==2.33.2 in /home/harleen/anaconda3/envs/dscodecamp/lib/python3.13/site-packages (from pydantic<3.0.0,>=2.7.4->langchain) (2.33.2)\n",
      "Requirement already satisfied: typing-inspection>=0.4.0 in /home/harleen/anaconda3/envs/dscodecamp/lib/python3.13/site-packages (from pydantic<3.0.0,>=2.7.4->langchain) (0.4.1)\n",
      "Requirement already satisfied: charset_normalizer<4,>=2 in /home/harleen/anaconda3/envs/dscodecamp/lib/python3.13/site-packages (from requests<3,>=2->langchain) (3.3.2)\n",
      "Requirement already satisfied: idna<4,>=2.5 in /home/harleen/anaconda3/envs/dscodecamp/lib/python3.13/site-packages (from requests<3,>=2->langchain) (3.7)\n",
      "Requirement already satisfied: urllib3<3,>=1.21.1 in /home/harleen/anaconda3/envs/dscodecamp/lib/python3.13/site-packages (from requests<3,>=2->langchain) (2.5.0)\n",
      "Requirement already satisfied: certifi>=2017.4.17 in /home/harleen/anaconda3/envs/dscodecamp/lib/python3.13/site-packages (from requests<3,>=2->langchain) (2025.6.15)\n",
      "Requirement already satisfied: greenlet>=1 in /home/harleen/anaconda3/envs/dscodecamp/lib/python3.13/site-packages (from SQLAlchemy<3,>=1.4->langchain) (3.2.3)\n",
      "Requirement already satisfied: filetype<2.0.0,>=1.2.0 in /home/harleen/anaconda3/envs/dscodecamp/lib/python3.13/site-packages (from langchain-google-genai) (1.2.0)\n",
      "Requirement already satisfied: google-ai-generativelanguage<0.7.0,>=0.6.18 in /home/harleen/anaconda3/envs/dscodecamp/lib/python3.13/site-packages (from langchain-google-genai) (0.6.18)\n",
      "Requirement already satisfied: google-api-core!=2.0.*,!=2.1.*,!=2.10.*,!=2.2.*,!=2.3.*,!=2.4.*,!=2.5.*,!=2.6.*,!=2.7.*,!=2.8.*,!=2.9.*,<3.0.0,>=1.34.1 in /home/harleen/anaconda3/envs/dscodecamp/lib/python3.13/site-packages (from google-api-core[grpc]!=2.0.*,!=2.1.*,!=2.10.*,!=2.2.*,!=2.3.*,!=2.4.*,!=2.5.*,!=2.6.*,!=2.7.*,!=2.8.*,!=2.9.*,<3.0.0,>=1.34.1->google-ai-generativelanguage<0.7.0,>=0.6.18->langchain-google-genai) (2.25.1)\n",
      "Requirement already satisfied: google-auth!=2.24.0,!=2.25.0,<3.0.0,>=2.14.1 in /home/harleen/anaconda3/envs/dscodecamp/lib/python3.13/site-packages (from google-ai-generativelanguage<0.7.0,>=0.6.18->langchain-google-genai) (2.40.3)\n",
      "Requirement already satisfied: proto-plus<2.0.0,>=1.22.3 in /home/harleen/anaconda3/envs/dscodecamp/lib/python3.13/site-packages (from google-ai-generativelanguage<0.7.0,>=0.6.18->langchain-google-genai) (1.26.1)\n",
      "Requirement already satisfied: protobuf!=4.21.0,!=4.21.1,!=4.21.2,!=4.21.3,!=4.21.4,!=4.21.5,<7.0.0,>=3.20.2 in /home/harleen/anaconda3/envs/dscodecamp/lib/python3.13/site-packages (from google-ai-generativelanguage<0.7.0,>=0.6.18->langchain-google-genai) (5.29.5)\n",
      "Requirement already satisfied: googleapis-common-protos<2.0.0,>=1.56.2 in /home/harleen/anaconda3/envs/dscodecamp/lib/python3.13/site-packages (from google-api-core!=2.0.*,!=2.1.*,!=2.10.*,!=2.2.*,!=2.3.*,!=2.4.*,!=2.5.*,!=2.6.*,!=2.7.*,!=2.8.*,!=2.9.*,<3.0.0,>=1.34.1->google-api-core[grpc]!=2.0.*,!=2.1.*,!=2.10.*,!=2.2.*,!=2.3.*,!=2.4.*,!=2.5.*,!=2.6.*,!=2.7.*,!=2.8.*,!=2.9.*,<3.0.0,>=1.34.1->google-ai-generativelanguage<0.7.0,>=0.6.18->langchain-google-genai) (1.70.0)\n",
      "Requirement already satisfied: grpcio<2.0.0,>=1.33.2 in /home/harleen/anaconda3/envs/dscodecamp/lib/python3.13/site-packages (from google-api-core[grpc]!=2.0.*,!=2.1.*,!=2.10.*,!=2.2.*,!=2.3.*,!=2.4.*,!=2.5.*,!=2.6.*,!=2.7.*,!=2.8.*,!=2.9.*,<3.0.0,>=1.34.1->google-ai-generativelanguage<0.7.0,>=0.6.18->langchain-google-genai) (1.73.1)\n",
      "Requirement already satisfied: grpcio-status<2.0.0,>=1.33.2 in /home/harleen/anaconda3/envs/dscodecamp/lib/python3.13/site-packages (from google-api-core[grpc]!=2.0.*,!=2.1.*,!=2.10.*,!=2.2.*,!=2.3.*,!=2.4.*,!=2.5.*,!=2.6.*,!=2.7.*,!=2.8.*,!=2.9.*,<3.0.0,>=1.34.1->google-ai-generativelanguage<0.7.0,>=0.6.18->langchain-google-genai) (1.71.2)\n",
      "Requirement already satisfied: cachetools<6.0,>=2.0.0 in /home/harleen/anaconda3/envs/dscodecamp/lib/python3.13/site-packages (from google-auth!=2.24.0,!=2.25.0,<3.0.0,>=2.14.1->google-ai-generativelanguage<0.7.0,>=0.6.18->langchain-google-genai) (5.5.2)\n",
      "Requirement already satisfied: pyasn1-modules>=0.2.1 in /home/harleen/anaconda3/envs/dscodecamp/lib/python3.13/site-packages (from google-auth!=2.24.0,!=2.25.0,<3.0.0,>=2.14.1->google-ai-generativelanguage<0.7.0,>=0.6.18->langchain-google-genai) (0.4.2)\n",
      "Requirement already satisfied: rsa<5,>=3.1.4 in /home/harleen/anaconda3/envs/dscodecamp/lib/python3.13/site-packages (from google-auth!=2.24.0,!=2.25.0,<3.0.0,>=2.14.1->google-ai-generativelanguage<0.7.0,>=0.6.18->langchain-google-genai) (4.9.1)\n",
      "Requirement already satisfied: pyasn1>=0.1.3 in /home/harleen/anaconda3/envs/dscodecamp/lib/python3.13/site-packages (from rsa<5,>=3.1.4->google-auth!=2.24.0,!=2.25.0,<3.0.0,>=2.14.1->google-ai-generativelanguage<0.7.0,>=0.6.18->langchain-google-genai) (0.6.1)\n",
      "INFO: pip is looking at multiple versions of google-generativeai to determine which version is compatible with other requirements. This could take a while.\n",
      "Collecting google-generativeai\n",
      "  Downloading google_generativeai-0.8.4-py3-none-any.whl.metadata (4.2 kB)\n",
      "  Downloading google_generativeai-0.8.3-py3-none-any.whl.metadata (3.9 kB)\n",
      "  Downloading google_generativeai-0.8.2-py3-none-any.whl.metadata (3.9 kB)\n",
      "  Downloading google_generativeai-0.8.1-py3-none-any.whl.metadata (3.9 kB)\n",
      "  Downloading google_generativeai-0.8.0-py3-none-any.whl.metadata (3.9 kB)\n",
      "  Downloading google_generativeai-0.7.2-py3-none-any.whl.metadata (4.0 kB)\n",
      "  Downloading google_generativeai-0.7.1-py3-none-any.whl.metadata (3.9 kB)\n",
      "INFO: pip is still looking at multiple versions of google-generativeai to determine which version is compatible with other requirements. This could take a while.\n",
      "  Downloading google_generativeai-0.7.0-py3-none-any.whl.metadata (3.9 kB)\n",
      "  Downloading google_generativeai-0.6.0-py3-none-any.whl.metadata (3.9 kB)\n",
      "  Downloading google_generativeai-0.5.4-py3-none-any.whl.metadata (3.9 kB)\n",
      "  Downloading google_generativeai-0.5.3-py3-none-any.whl.metadata (3.9 kB)\n",
      "  Downloading google_generativeai-0.5.2-py3-none-any.whl.metadata (3.9 kB)\n",
      "INFO: This is taking longer than usual. You might need to provide the dependency resolver with stricter constraints to reduce runtime. See https://pip.pypa.io/warnings/backtracking for guidance. If you want to abort this run, press Ctrl + C.\n",
      "  Downloading google_generativeai-0.5.1-py3-none-any.whl.metadata (3.9 kB)\n",
      "  Downloading google_generativeai-0.5.0-py3-none-any.whl.metadata (3.9 kB)\n",
      "  Downloading google_generativeai-0.4.1-py3-none-any.whl.metadata (6.2 kB)\n",
      "  Downloading google_generativeai-0.4.0-py3-none-any.whl.metadata (6.2 kB)\n",
      "  Downloading google_generativeai-0.3.2-py3-none-any.whl.metadata (5.9 kB)\n",
      "  Downloading google_generativeai-0.3.1-py3-none-any.whl.metadata (5.9 kB)\n",
      "  Downloading google_generativeai-0.3.0-py3-none-any.whl.metadata (5.8 kB)\n",
      "  Downloading google_generativeai-0.2.2-py3-none-any.whl.metadata (3.1 kB)\n",
      "  Downloading google_generativeai-0.2.1-py3-none-any.whl.metadata (3.1 kB)\n",
      "  Downloading google_generativeai-0.2.0-py3-none-any.whl.metadata (3.1 kB)\n",
      "  Downloading google_generativeai-0.1.0-py3-none-any.whl.metadata (3.0 kB)\n",
      "Collecting rsa<5,>=3.1.4 (from google-auth!=2.24.0,!=2.25.0,<3.0.0,>=2.14.1->google-ai-generativelanguage<0.7.0,>=0.6.18->langchain-google-genai)\n",
      "  Using cached rsa-4.9.1-py3-none-any.whl.metadata (5.6 kB)\n",
      "Collecting protobuf!=4.21.0,!=4.21.1,!=4.21.2,!=4.21.3,!=4.21.4,!=4.21.5,<7.0.0,>=3.20.2 (from google-ai-generativelanguage<0.7.0,>=0.6.18->langchain-google-genai)\n",
      "  Using cached protobuf-5.29.5-cp38-abi3-manylinux2014_x86_64.whl.metadata (592 bytes)\n",
      "Collecting proto-plus<2.0.0,>=1.22.3 (from google-ai-generativelanguage<0.7.0,>=0.6.18->langchain-google-genai)\n",
      "  Using cached proto_plus-1.26.1-py3-none-any.whl.metadata (2.2 kB)\n",
      "Collecting grpcio-status<2.0.0,>=1.33.2 (from google-api-core[grpc]!=2.0.*,!=2.1.*,!=2.10.*,!=2.2.*,!=2.3.*,!=2.4.*,!=2.5.*,!=2.6.*,!=2.7.*,!=2.8.*,!=2.9.*,<3.0.0,>=1.34.1->google-ai-generativelanguage<0.7.0,>=0.6.18->langchain-google-genai)\n",
      "  Using cached grpcio_status-1.73.1-py3-none-any.whl.metadata (1.1 kB)\n",
      "Collecting grpcio<2.0.0,>=1.33.2 (from google-api-core[grpc]!=2.0.*,!=2.1.*,!=2.10.*,!=2.2.*,!=2.3.*,!=2.4.*,!=2.5.*,!=2.6.*,!=2.7.*,!=2.8.*,!=2.9.*,<3.0.0,>=1.34.1->google-ai-generativelanguage<0.7.0,>=0.6.18->langchain-google-genai)\n",
      "  Using cached grpcio-1.73.1-cp313-cp313-manylinux_2_17_x86_64.manylinux2014_x86_64.whl.metadata (3.8 kB)\n",
      "Collecting googleapis-common-protos<2.0.0,>=1.56.2 (from google-api-core!=2.0.*,!=2.1.*,!=2.10.*,!=2.2.*,!=2.3.*,!=2.4.*,!=2.5.*,!=2.6.*,!=2.7.*,!=2.8.*,!=2.9.*,<3.0.0,>=1.34.1->google-api-core[grpc]!=2.0.*,!=2.1.*,!=2.10.*,!=2.2.*,!=2.3.*,!=2.4.*,!=2.5.*,!=2.6.*,!=2.7.*,!=2.8.*,!=2.9.*,<3.0.0,>=1.34.1->google-ai-generativelanguage<0.7.0,>=0.6.18->langchain-google-genai)\n",
      "  Using cached googleapis_common_protos-1.70.0-py3-none-any.whl.metadata (9.3 kB)\n",
      "Collecting cachetools<6.0,>=2.0.0 (from google-auth!=2.24.0,!=2.25.0,<3.0.0,>=2.14.1->google-ai-generativelanguage<0.7.0,>=0.6.18->langchain-google-genai)\n",
      "  Using cached cachetools-5.5.2-py3-none-any.whl.metadata (5.4 kB)\n",
      "Collecting google-auth!=2.24.0,!=2.25.0,<3.0.0,>=2.14.1 (from google-ai-generativelanguage<0.7.0,>=0.6.18->langchain-google-genai)\n",
      "  Using cached google_auth-2.40.3-py2.py3-none-any.whl.metadata (6.2 kB)\n",
      "Collecting google-api-core[grpc]!=2.0.*,!=2.1.*,!=2.10.*,!=2.2.*,!=2.3.*,!=2.4.*,!=2.5.*,!=2.6.*,!=2.7.*,!=2.8.*,!=2.9.*,<3.0.0,>=1.34.1 (from google-ai-generativelanguage<0.7.0,>=0.6.18->langchain-google-genai)\n",
      "  Using cached google_api_core-2.25.1-py3-none-any.whl.metadata (3.0 kB)\n",
      "Collecting filetype<2.0.0,>=1.2.0 (from langchain-google-genai)\n",
      "  Using cached filetype-1.2.0-py2.py3-none-any.whl.metadata (6.5 kB)\n",
      "Collecting langchain-google-genai\n",
      "  Using cached langchain_google_genai-2.1.7-py3-none-any.whl.metadata (7.0 kB)\n",
      "  Downloading langchain_google_genai-2.1.6-py3-none-any.whl.metadata (7.0 kB)\n",
      "  Downloading langchain_google_genai-2.1.5-py3-none-any.whl.metadata (5.2 kB)\n",
      "  Downloading langchain_google_genai-2.1.4-py3-none-any.whl.metadata (5.2 kB)\n",
      "  Downloading langchain_google_genai-2.1.3-py3-none-any.whl.metadata (4.7 kB)\n",
      "  Downloading langchain_google_genai-2.1.2-py3-none-any.whl.metadata (4.7 kB)\n",
      "  Downloading langchain_google_genai-2.1.1-py3-none-any.whl.metadata (4.7 kB)\n",
      "  Downloading langchain_google_genai-2.1.0-py3-none-any.whl.metadata (3.6 kB)\n",
      "  Downloading langchain_google_genai-2.0.11-py3-none-any.whl.metadata (3.6 kB)\n",
      "  Downloading langchain_google_genai-2.0.10-py3-none-any.whl.metadata (3.6 kB)\n",
      "Collecting google-ai-generativelanguage==0.6.15 (from google-generativeai)\n",
      "  Using cached google_ai_generativelanguage-0.6.15-py3-none-any.whl.metadata (5.7 kB)\n",
      "Requirement already satisfied: google-api-python-client in /home/harleen/anaconda3/envs/dscodecamp/lib/python3.13/site-packages (from google-generativeai) (2.174.0)\n",
      "Requirement already satisfied: tqdm in /home/harleen/anaconda3/envs/dscodecamp/lib/python3.13/site-packages (from google-generativeai) (4.67.1)\n",
      "Requirement already satisfied: httpx<1,>=0.23.0 in /home/harleen/anaconda3/envs/dscodecamp/lib/python3.13/site-packages (from langsmith>=0.1.17->langchain) (0.28.1)\n",
      "Requirement already satisfied: orjson<4.0.0,>=3.9.14 in /home/harleen/anaconda3/envs/dscodecamp/lib/python3.13/site-packages (from langsmith>=0.1.17->langchain) (3.10.18)\n",
      "Requirement already satisfied: requests-toolbelt<2.0.0,>=1.0.0 in /home/harleen/anaconda3/envs/dscodecamp/lib/python3.13/site-packages (from langsmith>=0.1.17->langchain) (1.0.0)\n",
      "Requirement already satisfied: zstandard<0.24.0,>=0.23.0 in /home/harleen/anaconda3/envs/dscodecamp/lib/python3.13/site-packages (from langsmith>=0.1.17->langchain) (0.23.0)\n",
      "Requirement already satisfied: anyio in /home/harleen/anaconda3/envs/dscodecamp/lib/python3.13/site-packages (from httpx<1,>=0.23.0->langsmith>=0.1.17->langchain) (4.7.0)\n",
      "Requirement already satisfied: httpcore==1.* in /home/harleen/anaconda3/envs/dscodecamp/lib/python3.13/site-packages (from httpx<1,>=0.23.0->langsmith>=0.1.17->langchain) (1.0.9)\n",
      "Requirement already satisfied: h11>=0.16 in /home/harleen/anaconda3/envs/dscodecamp/lib/python3.13/site-packages (from httpcore==1.*->httpx<1,>=0.23.0->langsmith>=0.1.17->langchain) (0.16.0)\n",
      "Requirement already satisfied: sniffio>=1.1 in /home/harleen/anaconda3/envs/dscodecamp/lib/python3.13/site-packages (from anyio->httpx<1,>=0.23.0->langsmith>=0.1.17->langchain) (1.3.0)\n",
      "Requirement already satisfied: httplib2<1.0.0,>=0.19.0 in /home/harleen/anaconda3/envs/dscodecamp/lib/python3.13/site-packages (from google-api-python-client->google-generativeai) (0.22.0)\n",
      "Requirement already satisfied: google-auth-httplib2<1.0.0,>=0.2.0 in /home/harleen/anaconda3/envs/dscodecamp/lib/python3.13/site-packages (from google-api-python-client->google-generativeai) (0.2.0)\n",
      "Requirement already satisfied: uritemplate<5,>=3.0.1 in /home/harleen/anaconda3/envs/dscodecamp/lib/python3.13/site-packages (from google-api-python-client->google-generativeai) (4.2.0)\n",
      "Requirement already satisfied: pyparsing!=3.0.0,!=3.0.1,!=3.0.2,!=3.0.3,<4,>=2.4.2 in /home/harleen/anaconda3/envs/dscodecamp/lib/python3.13/site-packages (from httplib2<1.0.0,>=0.19.0->google-api-python-client->google-generativeai) (3.2.3)\n",
      "Downloading langchain_google_genai-2.0.10-py3-none-any.whl (41 kB)\n",
      "Using cached google_ai_generativelanguage-0.6.15-py3-none-any.whl (1.3 MB)\n",
      "Installing collected packages: google-ai-generativelanguage, langchain-google-genai\n",
      "\u001b[2K  Attempting uninstall: google-ai-generativelanguage\n",
      "\u001b[2K    Found existing installation: google-ai-generativelanguage 0.6.18\n",
      "\u001b[2K    Uninstalling google-ai-generativelanguage-0.6.18:\n",
      "\u001b[2K      Successfully uninstalled google-ai-generativelanguage-0.6.18\n",
      "\u001b[2K  Attempting uninstall: langchain-google-genai━━\u001b[0m \u001b[32m0/2\u001b[0m [google-ai-generativelanguage]\n",
      "\u001b[2K    Found existing installation: langchain-google-genai 2.1.7 [google-ai-generativelanguage]\n",
      "\u001b[2K    Uninstalling langchain-google-genai-2.1.7:m━━━━━━━━━━━━━━━━━━━\u001b[0m \u001b[32m1/2\u001b[0m [langchain-google-genai]\n",
      "\u001b[2K      Successfully uninstalled langchain-google-genai-2.1.7━━━\u001b[0m \u001b[32m1/2\u001b[0m [langchain-google-genai]\n",
      "\u001b[2K   \u001b[90m━━━━━━━━━━━━━━━━━━━━━━━━━━━━━━━━━━━━━━━━\u001b[0m \u001b[32m2/2\u001b[0m [langchain-google-genai]-google-genai]\n",
      "\u001b[1A\u001b[2KSuccessfully installed google-ai-generativelanguage-0.6.15 langchain-google-genai-2.0.10\n",
      "Note: you may need to restart the kernel to use updated packages.\n"
     ]
    }
   ],
   "source": [
    "pip install langchain langchain-google-genai google-generativeai\n"
   ]
  },
  {
   "cell_type": "code",
   "execution_count": 3,
   "id": "434abfab",
   "metadata": {},
   "outputs": [
    {
     "name": "stdout",
     "output_type": "stream",
     "text": [
      "Collecting langchain-community\n",
      "  Downloading langchain_community-0.3.27-py3-none-any.whl.metadata (2.9 kB)\n",
      "Requirement already satisfied: langchain-core<1.0.0,>=0.3.66 in /home/harleen/anaconda3/envs/dscodecamp/lib/python3.13/site-packages (from langchain-community) (0.3.68)\n",
      "Requirement already satisfied: langchain<1.0.0,>=0.3.26 in /home/harleen/anaconda3/envs/dscodecamp/lib/python3.13/site-packages (from langchain-community) (0.3.26)\n",
      "Requirement already satisfied: SQLAlchemy<3,>=1.4 in /home/harleen/anaconda3/envs/dscodecamp/lib/python3.13/site-packages (from langchain-community) (2.0.41)\n",
      "Requirement already satisfied: requests<3,>=2 in /home/harleen/anaconda3/envs/dscodecamp/lib/python3.13/site-packages (from langchain-community) (2.32.4)\n",
      "Requirement already satisfied: PyYAML>=5.3 in /home/harleen/anaconda3/envs/dscodecamp/lib/python3.13/site-packages (from langchain-community) (6.0.2)\n",
      "Collecting aiohttp<4.0.0,>=3.8.3 (from langchain-community)\n",
      "  Downloading aiohttp-3.12.14-cp313-cp313-manylinux_2_17_x86_64.manylinux2014_x86_64.whl.metadata (7.6 kB)\n",
      "Requirement already satisfied: tenacity!=8.4.0,<10,>=8.1.0 in /home/harleen/anaconda3/envs/dscodecamp/lib/python3.13/site-packages (from langchain-community) (9.1.2)\n",
      "Collecting dataclasses-json<0.7,>=0.5.7 (from langchain-community)\n",
      "  Downloading dataclasses_json-0.6.7-py3-none-any.whl.metadata (25 kB)\n",
      "Collecting pydantic-settings<3.0.0,>=2.4.0 (from langchain-community)\n",
      "  Downloading pydantic_settings-2.10.1-py3-none-any.whl.metadata (3.4 kB)\n",
      "Requirement already satisfied: langsmith>=0.1.125 in /home/harleen/anaconda3/envs/dscodecamp/lib/python3.13/site-packages (from langchain-community) (0.4.5)\n",
      "Collecting httpx-sse<1.0.0,>=0.4.0 (from langchain-community)\n",
      "  Downloading httpx_sse-0.4.1-py3-none-any.whl.metadata (9.4 kB)\n",
      "Requirement already satisfied: numpy>=2.1.0 in /home/harleen/anaconda3/envs/dscodecamp/lib/python3.13/site-packages (from langchain-community) (2.2.6)\n",
      "Collecting aiohappyeyeballs>=2.5.0 (from aiohttp<4.0.0,>=3.8.3->langchain-community)\n",
      "  Downloading aiohappyeyeballs-2.6.1-py3-none-any.whl.metadata (5.9 kB)\n",
      "Collecting aiosignal>=1.4.0 (from aiohttp<4.0.0,>=3.8.3->langchain-community)\n",
      "  Downloading aiosignal-1.4.0-py3-none-any.whl.metadata (3.7 kB)\n",
      "Requirement already satisfied: attrs>=17.3.0 in /home/harleen/anaconda3/envs/dscodecamp/lib/python3.13/site-packages (from aiohttp<4.0.0,>=3.8.3->langchain-community) (24.3.0)\n",
      "Collecting frozenlist>=1.1.1 (from aiohttp<4.0.0,>=3.8.3->langchain-community)\n",
      "  Downloading frozenlist-1.7.0-cp313-cp313-manylinux_2_5_x86_64.manylinux1_x86_64.manylinux_2_17_x86_64.manylinux2014_x86_64.whl.metadata (18 kB)\n",
      "Collecting multidict<7.0,>=4.5 (from aiohttp<4.0.0,>=3.8.3->langchain-community)\n",
      "  Downloading multidict-6.6.3-cp313-cp313-manylinux2014_x86_64.manylinux_2_17_x86_64.manylinux_2_28_x86_64.whl.metadata (5.3 kB)\n",
      "Collecting propcache>=0.2.0 (from aiohttp<4.0.0,>=3.8.3->langchain-community)\n",
      "  Downloading propcache-0.3.2-cp313-cp313-manylinux_2_17_x86_64.manylinux2014_x86_64.whl.metadata (12 kB)\n",
      "Collecting yarl<2.0,>=1.17.0 (from aiohttp<4.0.0,>=3.8.3->langchain-community)\n",
      "  Downloading yarl-1.20.1-cp313-cp313-manylinux_2_17_x86_64.manylinux2014_x86_64.whl.metadata (73 kB)\n",
      "Collecting marshmallow<4.0.0,>=3.18.0 (from dataclasses-json<0.7,>=0.5.7->langchain-community)\n",
      "  Downloading marshmallow-3.26.1-py3-none-any.whl.metadata (7.3 kB)\n",
      "Collecting typing-inspect<1,>=0.4.0 (from dataclasses-json<0.7,>=0.5.7->langchain-community)\n",
      "  Downloading typing_inspect-0.9.0-py3-none-any.whl.metadata (1.5 kB)\n",
      "Requirement already satisfied: langchain-text-splitters<1.0.0,>=0.3.8 in /home/harleen/anaconda3/envs/dscodecamp/lib/python3.13/site-packages (from langchain<1.0.0,>=0.3.26->langchain-community) (0.3.8)\n",
      "Requirement already satisfied: pydantic<3.0.0,>=2.7.4 in /home/harleen/anaconda3/envs/dscodecamp/lib/python3.13/site-packages (from langchain<1.0.0,>=0.3.26->langchain-community) (2.11.7)\n",
      "Requirement already satisfied: jsonpatch<2.0,>=1.33 in /home/harleen/anaconda3/envs/dscodecamp/lib/python3.13/site-packages (from langchain-core<1.0.0,>=0.3.66->langchain-community) (1.33)\n",
      "Requirement already satisfied: packaging<25,>=23.2 in /home/harleen/anaconda3/envs/dscodecamp/lib/python3.13/site-packages (from langchain-core<1.0.0,>=0.3.66->langchain-community) (24.2)\n",
      "Requirement already satisfied: typing-extensions>=4.7 in /home/harleen/anaconda3/envs/dscodecamp/lib/python3.13/site-packages (from langchain-core<1.0.0,>=0.3.66->langchain-community) (4.12.2)\n",
      "Requirement already satisfied: jsonpointer>=1.9 in /home/harleen/anaconda3/envs/dscodecamp/lib/python3.13/site-packages (from jsonpatch<2.0,>=1.33->langchain-core<1.0.0,>=0.3.66->langchain-community) (3.0.0)\n",
      "Requirement already satisfied: annotated-types>=0.6.0 in /home/harleen/anaconda3/envs/dscodecamp/lib/python3.13/site-packages (from pydantic<3.0.0,>=2.7.4->langchain<1.0.0,>=0.3.26->langchain-community) (0.7.0)\n",
      "Requirement already satisfied: pydantic-core==2.33.2 in /home/harleen/anaconda3/envs/dscodecamp/lib/python3.13/site-packages (from pydantic<3.0.0,>=2.7.4->langchain<1.0.0,>=0.3.26->langchain-community) (2.33.2)\n",
      "Requirement already satisfied: typing-inspection>=0.4.0 in /home/harleen/anaconda3/envs/dscodecamp/lib/python3.13/site-packages (from pydantic<3.0.0,>=2.7.4->langchain<1.0.0,>=0.3.26->langchain-community) (0.4.1)\n",
      "Requirement already satisfied: python-dotenv>=0.21.0 in /home/harleen/anaconda3/envs/dscodecamp/lib/python3.13/site-packages (from pydantic-settings<3.0.0,>=2.4.0->langchain-community) (1.1.1)\n",
      "Requirement already satisfied: charset_normalizer<4,>=2 in /home/harleen/anaconda3/envs/dscodecamp/lib/python3.13/site-packages (from requests<3,>=2->langchain-community) (3.3.2)\n",
      "Requirement already satisfied: idna<4,>=2.5 in /home/harleen/anaconda3/envs/dscodecamp/lib/python3.13/site-packages (from requests<3,>=2->langchain-community) (3.7)\n",
      "Requirement already satisfied: urllib3<3,>=1.21.1 in /home/harleen/anaconda3/envs/dscodecamp/lib/python3.13/site-packages (from requests<3,>=2->langchain-community) (2.5.0)\n",
      "Requirement already satisfied: certifi>=2017.4.17 in /home/harleen/anaconda3/envs/dscodecamp/lib/python3.13/site-packages (from requests<3,>=2->langchain-community) (2025.6.15)\n",
      "Requirement already satisfied: greenlet>=1 in /home/harleen/anaconda3/envs/dscodecamp/lib/python3.13/site-packages (from SQLAlchemy<3,>=1.4->langchain-community) (3.2.3)\n",
      "Collecting mypy-extensions>=0.3.0 (from typing-inspect<1,>=0.4.0->dataclasses-json<0.7,>=0.5.7->langchain-community)\n",
      "  Downloading mypy_extensions-1.1.0-py3-none-any.whl.metadata (1.1 kB)\n",
      "Requirement already satisfied: httpx<1,>=0.23.0 in /home/harleen/anaconda3/envs/dscodecamp/lib/python3.13/site-packages (from langsmith>=0.1.125->langchain-community) (0.28.1)\n",
      "Requirement already satisfied: orjson<4.0.0,>=3.9.14 in /home/harleen/anaconda3/envs/dscodecamp/lib/python3.13/site-packages (from langsmith>=0.1.125->langchain-community) (3.10.18)\n",
      "Requirement already satisfied: requests-toolbelt<2.0.0,>=1.0.0 in /home/harleen/anaconda3/envs/dscodecamp/lib/python3.13/site-packages (from langsmith>=0.1.125->langchain-community) (1.0.0)\n",
      "Requirement already satisfied: zstandard<0.24.0,>=0.23.0 in /home/harleen/anaconda3/envs/dscodecamp/lib/python3.13/site-packages (from langsmith>=0.1.125->langchain-community) (0.23.0)\n",
      "Requirement already satisfied: anyio in /home/harleen/anaconda3/envs/dscodecamp/lib/python3.13/site-packages (from httpx<1,>=0.23.0->langsmith>=0.1.125->langchain-community) (4.7.0)\n",
      "Requirement already satisfied: httpcore==1.* in /home/harleen/anaconda3/envs/dscodecamp/lib/python3.13/site-packages (from httpx<1,>=0.23.0->langsmith>=0.1.125->langchain-community) (1.0.9)\n",
      "Requirement already satisfied: h11>=0.16 in /home/harleen/anaconda3/envs/dscodecamp/lib/python3.13/site-packages (from httpcore==1.*->httpx<1,>=0.23.0->langsmith>=0.1.125->langchain-community) (0.16.0)\n",
      "Requirement already satisfied: sniffio>=1.1 in /home/harleen/anaconda3/envs/dscodecamp/lib/python3.13/site-packages (from anyio->httpx<1,>=0.23.0->langsmith>=0.1.125->langchain-community) (1.3.0)\n",
      "Downloading langchain_community-0.3.27-py3-none-any.whl (2.5 MB)\n",
      "\u001b[2K   \u001b[90m━━━━━━━━━━━━━━━━━━━━━━━━━━━━━━━━━━━━━━━━\u001b[0m \u001b[32m2.5/2.5 MB\u001b[0m \u001b[31m7.0 MB/s\u001b[0m eta \u001b[36m0:00:00\u001b[0ma \u001b[36m0:00:01\u001b[0m\n",
      "\u001b[?25hDownloading aiohttp-3.12.14-cp313-cp313-manylinux_2_17_x86_64.manylinux2014_x86_64.whl (1.7 MB)\n",
      "\u001b[2K   \u001b[90m━━━━━━━━━━━━━━━━━━━━━━━━━━━━━━━━━━━━━━━━\u001b[0m \u001b[32m1.7/1.7 MB\u001b[0m \u001b[31m12.4 MB/s\u001b[0m eta \u001b[36m0:00:00\u001b[0m\n",
      "\u001b[?25hDownloading dataclasses_json-0.6.7-py3-none-any.whl (28 kB)\n",
      "Downloading httpx_sse-0.4.1-py3-none-any.whl (8.1 kB)\n",
      "Downloading marshmallow-3.26.1-py3-none-any.whl (50 kB)\n",
      "Downloading multidict-6.6.3-cp313-cp313-manylinux2014_x86_64.manylinux_2_17_x86_64.manylinux_2_28_x86_64.whl (254 kB)\n",
      "Downloading pydantic_settings-2.10.1-py3-none-any.whl (45 kB)\n",
      "Downloading typing_inspect-0.9.0-py3-none-any.whl (8.8 kB)\n",
      "Downloading yarl-1.20.1-cp313-cp313-manylinux_2_17_x86_64.manylinux2014_x86_64.whl (352 kB)\n",
      "Downloading aiohappyeyeballs-2.6.1-py3-none-any.whl (15 kB)\n",
      "Downloading aiosignal-1.4.0-py3-none-any.whl (7.5 kB)\n",
      "Downloading frozenlist-1.7.0-cp313-cp313-manylinux_2_5_x86_64.manylinux1_x86_64.manylinux_2_17_x86_64.manylinux2014_x86_64.whl (232 kB)\n",
      "Downloading mypy_extensions-1.1.0-py3-none-any.whl (5.0 kB)\n",
      "Downloading propcache-0.3.2-cp313-cp313-manylinux_2_17_x86_64.manylinux2014_x86_64.whl (206 kB)\n",
      "Installing collected packages: propcache, mypy-extensions, multidict, marshmallow, httpx-sse, frozenlist, aiohappyeyeballs, yarl, typing-inspect, aiosignal, pydantic-settings, dataclasses-json, aiohttp, langchain-community\n",
      "\u001b[2K   \u001b[90m━━━━━━━━━━━━━━━━━━━━━━━━━━━━━━━━━━━━━━━━\u001b[0m \u001b[32m14/14\u001b[0m [langchain-community]ngchain-community]\n",
      "\u001b[1A\u001b[2KSuccessfully installed aiohappyeyeballs-2.6.1 aiohttp-3.12.14 aiosignal-1.4.0 dataclasses-json-0.6.7 frozenlist-1.7.0 httpx-sse-0.4.1 langchain-community-0.3.27 marshmallow-3.26.1 multidict-6.6.3 mypy-extensions-1.1.0 propcache-0.3.2 pydantic-settings-2.10.1 typing-inspect-0.9.0 yarl-1.20.1\n",
      "Requirement already satisfied: langchain in /home/harleen/anaconda3/envs/dscodecamp/lib/python3.13/site-packages (0.3.26)\n",
      "Requirement already satisfied: langchain-google-genai in /home/harleen/anaconda3/envs/dscodecamp/lib/python3.13/site-packages (2.0.10)\n",
      "Requirement already satisfied: google-generativeai in /home/harleen/anaconda3/envs/dscodecamp/lib/python3.13/site-packages (0.8.5)\n",
      "Requirement already satisfied: langchain-core<1.0.0,>=0.3.66 in /home/harleen/anaconda3/envs/dscodecamp/lib/python3.13/site-packages (from langchain) (0.3.68)\n",
      "Requirement already satisfied: langchain-text-splitters<1.0.0,>=0.3.8 in /home/harleen/anaconda3/envs/dscodecamp/lib/python3.13/site-packages (from langchain) (0.3.8)\n",
      "Requirement already satisfied: langsmith>=0.1.17 in /home/harleen/anaconda3/envs/dscodecamp/lib/python3.13/site-packages (from langchain) (0.4.5)\n",
      "Requirement already satisfied: pydantic<3.0.0,>=2.7.4 in /home/harleen/anaconda3/envs/dscodecamp/lib/python3.13/site-packages (from langchain) (2.11.7)\n",
      "Requirement already satisfied: SQLAlchemy<3,>=1.4 in /home/harleen/anaconda3/envs/dscodecamp/lib/python3.13/site-packages (from langchain) (2.0.41)\n",
      "Requirement already satisfied: requests<3,>=2 in /home/harleen/anaconda3/envs/dscodecamp/lib/python3.13/site-packages (from langchain) (2.32.4)\n",
      "Requirement already satisfied: PyYAML>=5.3 in /home/harleen/anaconda3/envs/dscodecamp/lib/python3.13/site-packages (from langchain) (6.0.2)\n",
      "Requirement already satisfied: tenacity!=8.4.0,<10.0.0,>=8.1.0 in /home/harleen/anaconda3/envs/dscodecamp/lib/python3.13/site-packages (from langchain-core<1.0.0,>=0.3.66->langchain) (9.1.2)\n",
      "Requirement already satisfied: jsonpatch<2.0,>=1.33 in /home/harleen/anaconda3/envs/dscodecamp/lib/python3.13/site-packages (from langchain-core<1.0.0,>=0.3.66->langchain) (1.33)\n",
      "Requirement already satisfied: packaging<25,>=23.2 in /home/harleen/anaconda3/envs/dscodecamp/lib/python3.13/site-packages (from langchain-core<1.0.0,>=0.3.66->langchain) (24.2)\n",
      "Requirement already satisfied: typing-extensions>=4.7 in /home/harleen/anaconda3/envs/dscodecamp/lib/python3.13/site-packages (from langchain-core<1.0.0,>=0.3.66->langchain) (4.12.2)\n",
      "Requirement already satisfied: jsonpointer>=1.9 in /home/harleen/anaconda3/envs/dscodecamp/lib/python3.13/site-packages (from jsonpatch<2.0,>=1.33->langchain-core<1.0.0,>=0.3.66->langchain) (3.0.0)\n",
      "Requirement already satisfied: annotated-types>=0.6.0 in /home/harleen/anaconda3/envs/dscodecamp/lib/python3.13/site-packages (from pydantic<3.0.0,>=2.7.4->langchain) (0.7.0)\n",
      "Requirement already satisfied: pydantic-core==2.33.2 in /home/harleen/anaconda3/envs/dscodecamp/lib/python3.13/site-packages (from pydantic<3.0.0,>=2.7.4->langchain) (2.33.2)\n",
      "Requirement already satisfied: typing-inspection>=0.4.0 in /home/harleen/anaconda3/envs/dscodecamp/lib/python3.13/site-packages (from pydantic<3.0.0,>=2.7.4->langchain) (0.4.1)\n",
      "Requirement already satisfied: charset_normalizer<4,>=2 in /home/harleen/anaconda3/envs/dscodecamp/lib/python3.13/site-packages (from requests<3,>=2->langchain) (3.3.2)\n",
      "Requirement already satisfied: idna<4,>=2.5 in /home/harleen/anaconda3/envs/dscodecamp/lib/python3.13/site-packages (from requests<3,>=2->langchain) (3.7)\n",
      "Requirement already satisfied: urllib3<3,>=1.21.1 in /home/harleen/anaconda3/envs/dscodecamp/lib/python3.13/site-packages (from requests<3,>=2->langchain) (2.5.0)\n",
      "Requirement already satisfied: certifi>=2017.4.17 in /home/harleen/anaconda3/envs/dscodecamp/lib/python3.13/site-packages (from requests<3,>=2->langchain) (2025.6.15)\n",
      "Requirement already satisfied: greenlet>=1 in /home/harleen/anaconda3/envs/dscodecamp/lib/python3.13/site-packages (from SQLAlchemy<3,>=1.4->langchain) (3.2.3)\n",
      "Requirement already satisfied: filetype<2.0.0,>=1.2.0 in /home/harleen/anaconda3/envs/dscodecamp/lib/python3.13/site-packages (from langchain-google-genai) (1.2.0)\n",
      "Requirement already satisfied: google-ai-generativelanguage==0.6.15 in /home/harleen/anaconda3/envs/dscodecamp/lib/python3.13/site-packages (from google-generativeai) (0.6.15)\n",
      "Requirement already satisfied: google-api-core in /home/harleen/anaconda3/envs/dscodecamp/lib/python3.13/site-packages (from google-generativeai) (2.25.1)\n",
      "Requirement already satisfied: google-api-python-client in /home/harleen/anaconda3/envs/dscodecamp/lib/python3.13/site-packages (from google-generativeai) (2.174.0)\n",
      "Requirement already satisfied: google-auth>=2.15.0 in /home/harleen/anaconda3/envs/dscodecamp/lib/python3.13/site-packages (from google-generativeai) (2.40.3)\n",
      "Requirement already satisfied: protobuf in /home/harleen/anaconda3/envs/dscodecamp/lib/python3.13/site-packages (from google-generativeai) (5.29.5)\n",
      "Requirement already satisfied: tqdm in /home/harleen/anaconda3/envs/dscodecamp/lib/python3.13/site-packages (from google-generativeai) (4.67.1)\n",
      "Requirement already satisfied: proto-plus<2.0.0dev,>=1.22.3 in /home/harleen/anaconda3/envs/dscodecamp/lib/python3.13/site-packages (from google-ai-generativelanguage==0.6.15->google-generativeai) (1.26.1)\n",
      "Requirement already satisfied: googleapis-common-protos<2.0.0,>=1.56.2 in /home/harleen/anaconda3/envs/dscodecamp/lib/python3.13/site-packages (from google-api-core->google-generativeai) (1.70.0)\n",
      "Requirement already satisfied: grpcio<2.0.0,>=1.33.2 in /home/harleen/anaconda3/envs/dscodecamp/lib/python3.13/site-packages (from google-api-core[grpc]!=2.0.*,!=2.1.*,!=2.10.*,!=2.2.*,!=2.3.*,!=2.4.*,!=2.5.*,!=2.6.*,!=2.7.*,!=2.8.*,!=2.9.*,<3.0.0dev,>=1.34.1->google-ai-generativelanguage==0.6.15->google-generativeai) (1.73.1)\n",
      "Requirement already satisfied: grpcio-status<2.0.0,>=1.33.2 in /home/harleen/anaconda3/envs/dscodecamp/lib/python3.13/site-packages (from google-api-core[grpc]!=2.0.*,!=2.1.*,!=2.10.*,!=2.2.*,!=2.3.*,!=2.4.*,!=2.5.*,!=2.6.*,!=2.7.*,!=2.8.*,!=2.9.*,<3.0.0dev,>=1.34.1->google-ai-generativelanguage==0.6.15->google-generativeai) (1.71.2)\n",
      "Requirement already satisfied: cachetools<6.0,>=2.0.0 in /home/harleen/anaconda3/envs/dscodecamp/lib/python3.13/site-packages (from google-auth>=2.15.0->google-generativeai) (5.5.2)\n",
      "Requirement already satisfied: pyasn1-modules>=0.2.1 in /home/harleen/anaconda3/envs/dscodecamp/lib/python3.13/site-packages (from google-auth>=2.15.0->google-generativeai) (0.4.2)\n",
      "Requirement already satisfied: rsa<5,>=3.1.4 in /home/harleen/anaconda3/envs/dscodecamp/lib/python3.13/site-packages (from google-auth>=2.15.0->google-generativeai) (4.9.1)\n",
      "Requirement already satisfied: pyasn1>=0.1.3 in /home/harleen/anaconda3/envs/dscodecamp/lib/python3.13/site-packages (from rsa<5,>=3.1.4->google-auth>=2.15.0->google-generativeai) (0.6.1)\n",
      "Requirement already satisfied: httpx<1,>=0.23.0 in /home/harleen/anaconda3/envs/dscodecamp/lib/python3.13/site-packages (from langsmith>=0.1.17->langchain) (0.28.1)\n",
      "Requirement already satisfied: orjson<4.0.0,>=3.9.14 in /home/harleen/anaconda3/envs/dscodecamp/lib/python3.13/site-packages (from langsmith>=0.1.17->langchain) (3.10.18)\n",
      "Requirement already satisfied: requests-toolbelt<2.0.0,>=1.0.0 in /home/harleen/anaconda3/envs/dscodecamp/lib/python3.13/site-packages (from langsmith>=0.1.17->langchain) (1.0.0)\n",
      "Requirement already satisfied: zstandard<0.24.0,>=0.23.0 in /home/harleen/anaconda3/envs/dscodecamp/lib/python3.13/site-packages (from langsmith>=0.1.17->langchain) (0.23.0)\n",
      "Requirement already satisfied: anyio in /home/harleen/anaconda3/envs/dscodecamp/lib/python3.13/site-packages (from httpx<1,>=0.23.0->langsmith>=0.1.17->langchain) (4.7.0)\n",
      "Requirement already satisfied: httpcore==1.* in /home/harleen/anaconda3/envs/dscodecamp/lib/python3.13/site-packages (from httpx<1,>=0.23.0->langsmith>=0.1.17->langchain) (1.0.9)\n",
      "Requirement already satisfied: h11>=0.16 in /home/harleen/anaconda3/envs/dscodecamp/lib/python3.13/site-packages (from httpcore==1.*->httpx<1,>=0.23.0->langsmith>=0.1.17->langchain) (0.16.0)\n",
      "Requirement already satisfied: sniffio>=1.1 in /home/harleen/anaconda3/envs/dscodecamp/lib/python3.13/site-packages (from anyio->httpx<1,>=0.23.0->langsmith>=0.1.17->langchain) (1.3.0)\n",
      "Requirement already satisfied: httplib2<1.0.0,>=0.19.0 in /home/harleen/anaconda3/envs/dscodecamp/lib/python3.13/site-packages (from google-api-python-client->google-generativeai) (0.22.0)\n",
      "Requirement already satisfied: google-auth-httplib2<1.0.0,>=0.2.0 in /home/harleen/anaconda3/envs/dscodecamp/lib/python3.13/site-packages (from google-api-python-client->google-generativeai) (0.2.0)\n",
      "Requirement already satisfied: uritemplate<5,>=3.0.1 in /home/harleen/anaconda3/envs/dscodecamp/lib/python3.13/site-packages (from google-api-python-client->google-generativeai) (4.2.0)\n",
      "Requirement already satisfied: pyparsing!=3.0.0,!=3.0.1,!=3.0.2,!=3.0.3,<4,>=2.4.2 in /home/harleen/anaconda3/envs/dscodecamp/lib/python3.13/site-packages (from httplib2<1.0.0,>=0.19.0->google-api-python-client->google-generativeai) (3.2.3)\n"
     ]
    }
   ],
   "source": [
    "!pip install -U langchain-community\n",
    "\n",
    "!pip install langchain langchain-google-genai google-generativeai"
   ]
  },
  {
   "cell_type": "code",
   "execution_count": 5,
   "id": "31d8d031",
   "metadata": {},
   "outputs": [],
   "source": [
    "!pip install -qU duckduckgo-search langchain-community"
   ]
  },
  {
   "cell_type": "code",
   "execution_count": 23,
   "id": "b4129d43",
   "metadata": {},
   "outputs": [
    {
     "name": "stderr",
     "output_type": "stream",
     "text": [
      "/home/harleen/anaconda3/envs/dscodecamp/lib/python3.13/site-packages/langchain_community/utilities/duckduckgo_search.py:63: RuntimeWarning: This package (`duckduckgo_search`) has been renamed to `ddgs`! Use `pip install ddgs` instead.\n",
      "  with DDGS() as ddgs:\n"
     ]
    },
    {
     "data": {
      "text/plain": [
       "'chairman, president ， CEO的区别1、职位名称不同。chairman的职位名称翻译成汉语为董事长。president的职位名称翻译成汉族为总经理或总裁 … Oct 11, 2024 · “前总统”是ex-president还是former presidengt?\"前总统\"这一表述在英文中有两种不同的翻译方式：ex-president和former … Jul 25, 2024 · president和presidency有什么区别答案：president和presidency在含义和用法上存在明显的区别。解释：1. 含义不同president一词 … Jul 24, 2024 · VP是什么职务VP，全称为Vice President，是企业中一种重要的高级管理职务。它位于总经理 (General Manager)之下，通常分为第 … \"Chairman\" 和 \"President\" 都是职位头衔，但 \"Chairman\" 主要用于组织、公司、委员会等的领导者，其职责是主持和指导会议；而 \"President\"  …'"
      ]
     },
     "execution_count": 23,
     "metadata": {},
     "output_type": "execute_result"
    }
   ],
   "source": [
    "from langchain_google_genai import GoogleGenerativeAI\n",
    "from langchain.chains import ConversationChain\n",
    "\n",
    "from langchain_community.tools import DuckDuckGoSearchRun\n",
    "\n",
    "search = DuckDuckGoSearchRun()\n",
    "\n",
    "search.invoke(\"Who is president of India?\")\n",
    "\n"
   ]
  },
  {
   "cell_type": "code",
   "execution_count": 15,
   "id": "0fc1c161",
   "metadata": {},
   "outputs": [
    {
     "name": "stderr",
     "output_type": "stream",
     "text": [
      "/home/harleen/anaconda3/envs/dscodecamp/lib/python3.13/site-packages/langchain_community/utilities/duckduckgo_search.py:63: RuntimeWarning: This package (`duckduckgo_search`) has been renamed to `ddgs`! Use `pip install ddgs` instead.\n",
      "  with DDGS() as ddgs:\n"
     ]
    },
    {
     "data": {
      "text/plain": [
       "'snippet: 贝拉克·侯赛因·奥巴马（Barack Hussein Obama），1961年8月4日出生于美国夏威夷州檀香山，美国民主党籍政治家，第44任美国总统，美国历史上第一位非洲裔总统。, title: 贝拉克·侯赛因·奥巴马 - 知乎, link: https://www.zhihu.com/topic/19585074/intro, snippet: 美国第44任总统奥巴马的全称是 巴拉克·侯赛因·奥巴马 二世（Barack Hussein Obama II）。称其为二世，是为了与和他姓名完全相同的父亲（巴拉克·侯赛因·奥巴马一世）相区别。在西方许多国家，父子 …, title: 奥巴马的中间名为何叫侯赛因？ - 知乎, link: https://www.zhihu.com/question/20733642, snippet: 对他，我只有感激 虽然他的医改在美国失败了，但全民医保的理念却深深刺激了当时的中国，在绝不能让美帝比我们更社会主义的旗号下，我们迅速开始了覆盖全民的医保，并在2018年救了我妈妈。 良 …, title: 如何评价美国总统奥巴马？ - 知乎, link: https://www.zhihu.com/question/21681205, snippet: 贝拉克·侯赛因·奥巴马（Barack Hussein Obama），1961年8月4日出生于美国夏威夷州檀香山，美国民主党籍政治家，第44任美国总统，美国历史上第一位非洲裔总统。 1991年，奥巴马以优等生荣誉从 …, title: 贝拉克·侯赛因·奥巴马 - 知乎, link: https://www.zhihu.com/topic/19585074'"
      ]
     },
     "execution_count": 15,
     "metadata": {},
     "output_type": "execute_result"
    }
   ],
   "source": [
    "from langchain_community.tools import DuckDuckGoSearchResults\n",
    "\n",
    "search = DuckDuckGoSearchResults()\n",
    "\n",
    "search.invoke(\"Obama in English\")"
   ]
  },
  {
   "cell_type": "code",
   "execution_count": 13,
   "id": "b6164187",
   "metadata": {},
   "outputs": [
    {
     "name": "stderr",
     "output_type": "stream",
     "text": [
      "/home/harleen/anaconda3/envs/dscodecamp/lib/python3.13/pty.py:95: DeprecationWarning: This process (pid=12770) is multi-threaded, use of forkpty() may lead to deadlocks in the child.\n",
      "  pid, fd = os.forkpty()\n"
     ]
    },
    {
     "name": "stdout",
     "output_type": "stream",
     "text": [
      "Collecting wikipedia\n",
      "  Downloading wikipedia-1.4.0.tar.gz (27 kB)\n",
      "  Preparing metadata (setup.py) ... \u001b[?25ldone\n",
      "\u001b[?25hRequirement already satisfied: beautifulsoup4 in /home/harleen/anaconda3/envs/dscodecamp/lib/python3.13/site-packages (from wikipedia) (4.12.3)\n",
      "Requirement already satisfied: requests<3.0.0,>=2.0.0 in /home/harleen/anaconda3/envs/dscodecamp/lib/python3.13/site-packages (from wikipedia) (2.32.4)\n",
      "Requirement already satisfied: charset_normalizer<4,>=2 in /home/harleen/anaconda3/envs/dscodecamp/lib/python3.13/site-packages (from requests<3.0.0,>=2.0.0->wikipedia) (3.3.2)\n",
      "Requirement already satisfied: idna<4,>=2.5 in /home/harleen/anaconda3/envs/dscodecamp/lib/python3.13/site-packages (from requests<3.0.0,>=2.0.0->wikipedia) (3.7)\n",
      "Requirement already satisfied: urllib3<3,>=1.21.1 in /home/harleen/anaconda3/envs/dscodecamp/lib/python3.13/site-packages (from requests<3.0.0,>=2.0.0->wikipedia) (2.5.0)\n",
      "Requirement already satisfied: certifi>=2017.4.17 in /home/harleen/anaconda3/envs/dscodecamp/lib/python3.13/site-packages (from requests<3.0.0,>=2.0.0->wikipedia) (2025.6.15)\n",
      "Requirement already satisfied: soupsieve>1.2 in /home/harleen/anaconda3/envs/dscodecamp/lib/python3.13/site-packages (from beautifulsoup4->wikipedia) (2.5)\n",
      "Building wheels for collected packages: wikipedia\n",
      "\u001b[33m  DEPRECATION: Building 'wikipedia' using the legacy setup.py bdist_wheel mechanism, which will be removed in a future version. pip 25.3 will enforce this behaviour change. A possible replacement is to use the standardized build interface by setting the `--use-pep517` option, (possibly combined with `--no-build-isolation`), or adding a `pyproject.toml` file to the source tree of 'wikipedia'. Discussion can be found at https://github.com/pypa/pip/issues/6334\u001b[0m\u001b[33m\n",
      "\u001b[0m  Building wheel for wikipedia (setup.py) ... \u001b[?25ldone\n",
      "\u001b[?25h  Created wheel for wikipedia: filename=wikipedia-1.4.0-py3-none-any.whl size=11678 sha256=f6a7d0fbc598e8b2377e7ed9c325a6a8ae802cf517b8c60e2e1bc0972a985a32\n",
      "  Stored in directory: /home/harleen/.cache/pip/wheels/79/1d/c8/b64e19423cc5a2a339450ea5d145e7c8eb3d4aa2b150cde33b\n",
      "Successfully built wikipedia\n",
      "Installing collected packages: wikipedia\n",
      "Successfully installed wikipedia-1.4.0\n"
     ]
    }
   ],
   "source": [
    "!pip install wikipedia\n"
   ]
  },
  {
   "cell_type": "code",
   "execution_count": 16,
   "id": "af03be3e",
   "metadata": {},
   "outputs": [
    {
     "name": "stdout",
     "output_type": "stream",
     "text": [
      "Barack Hussein Obama II (born August 4, 1961) is an American politician who was the 44th president of the United States from 2009 to 2017. A member of the Democratic Party, he was the first African American president. Obama previously served as a U.S. senator representing Illinois from 2005 to 2008 and as an Illinois state senator from 1997 to 2004.\n",
      "Born in Honolulu, Hawaii, Obama graduated from Columbia University in 1983 with a Bachelor of Arts degree in political science and later worked as a community organizer in Chicago. In 1988, Obama enrolled in Harvard Law School, where he was the first black president of the Harvard Law Review. He became a civil rights attorney and an academic, teaching constitutional law at the University of Chicago Law School from 1992 to 2004. In 1996, Obama was elected to represent the 13th district in the Illinois Senate, a position he held until 2004, when he successfully ran for the U.S. Senate. In the 2008 presidential election, after a close primary campaign against Hillary Clinton, he was nominated by the Democratic Party for president. Obama selected Joe Biden as his running mate and defeated Republican nominee John McCain and his running mate Sarah Palin.\n",
      "Obama was awarded the 2009 Nobel Peace Prize for efforts in international diplomacy, a decision which drew both criticism and praise. During his first term, his administration responded to the 2008 financial crisis with measures including the American Recovery and Reinvestment Act of 2009, a major stimulus package to guide the economy in recovering from the Great Recession; a partial extension of the Bush tax cuts; legislation to reform health care; and the Dodd–Frank Wall Street Reform and Consumer Protection Act, a major financial regulation reform bill. Obama also appointed Supreme Court justices Sonia Sotomayor and Elena Kagan, the former being the first Hispanic American on the Supreme Court. He oversaw the end of the Iraq War and ordered Operation Neptune Spear, the raid that killed Osama bin Laden, who was responsible for the September 11 attacks. Obama downplayed Bush's counterinsurgency model, expanding air strikes and making extensive use of special forces, while encouraging greater reliance on host-government militaries. He also ordered the 2011 military intervention in Libya to implement United Nations Security Council Resolution 1973, contributing to the overthrow of Muammar Gaddafi.\n",
      "Obama defeated Republican opponent Mitt Romney and his running mate Paul Ryan in the 2012 presidential election. In his second term, Obama advocated for gun control in the wake of the Sandy Hook Elementary School shooting, took steps to combat climate change, signing the Paris Agreement, a major international climate agreement, and an executive order to limit carbon emissions. Obama also presided over the implementation of the Affordable Care Act and other legislation passed in his first term. He initiated sanctions against Russia following the invasion in Ukraine and again after Russian interference in the 2016 U.S. elections, ordered military intervention in Iraq in response to gains made by ISIL following the 2011 withdrawal from Iraq, negotiated the Joint Comprehensive Plan of Action (a nuclear agreement with Iran), and normalized relations with Cuba. The number of American soldiers in Afghanistan decreased during Obama's second term, though U.S. soldiers remained in the country throughout the remainder of his presidency. Obama promoted inclusion for LGBT Americans, becoming the first sitting U.S. president to publicly support same-sex marriage.\n",
      "Obama left office in 2017 with high approval ratings both within the United States and among foreign advisories. He continues to reside in Washington, D.C., and remains politically active, campaigning for candidates in various American elections, including in Biden's successful presidential bid in the 2020 presidential election. Outside of politics, Obama has published three books: Dreams from My Father (1995), The Audacity of Hope (2006), and A Promised Land (2020). His presidential library began construction in the South Side of Chicago in 2021. Historians and political scientists rank Obama among the upper tier in historical rankings of U.S. presidents.\n"
     ]
    }
   ],
   "source": [
    "import wikipedia\n",
    "\n",
    "print(wikipedia.summary(\"Barack Obama\"))\n"
   ]
  },
  {
   "cell_type": "code",
   "execution_count": 17,
   "id": "e049fecb",
   "metadata": {},
   "outputs": [
    {
     "name": "stderr",
     "output_type": "stream",
     "text": [
      "/home/harleen/anaconda3/envs/dscodecamp/lib/python3.13/site-packages/langchain_community/utilities/duckduckgo_search.py:63: RuntimeWarning: This package (`duckduckgo_search`) has been renamed to `ddgs`! Use `pip install ddgs` instead.\n",
      "  with DDGS() as ddgs:\n"
     ]
    },
    {
     "name": "stdout",
     "output_type": "stream",
     "text": [
      "snippet: India has been a federal republic since 1950, governed through a democratic parliamentary system. It is a pluralistic, multilingual and …, title: India - Wikipedia, link: https://en.wikipedia.org/wiki/India, snippet: National Portal of India provides a single-window access to information and services that are electronically delivered from all …, title: National Portal of India, link: https://www.india.gov.in/, snippet: 2 days ago · India is a country that occupies the greater part of South Asia. It is a constitutional republic that represents a …, title: India | History, Maps, Population, Economy, & Facts | Britannica, link: https://www.britannica.com/place/India, snippet: India is one of the oldest civilizations in the world with a kaleidoscopic variety and rich cultural heritage. It has achieved all-round …, title: Profile - National Portal of India, link: https://www.india.gov.in/india-glance/profile\n"
     ]
    }
   ],
   "source": [
    "search= DuckDuckGoSearchResults()\n",
    "results=search.run(\"Who is india's first prime minister\")\n",
    "print(results)"
   ]
  },
  {
   "cell_type": "code",
   "execution_count": 18,
   "id": "8b960504",
   "metadata": {},
   "outputs": [],
   "source": [
    "import os\n",
    "from dotenv import load_dotenv\n",
    "load_dotenv()\n",
    "api_key=os.getenv(\"GOOGLE_API_KEY\")"
   ]
  },
  {
   "cell_type": "code",
   "execution_count": 12,
   "id": "0c78b92f",
   "metadata": {},
   "outputs": [
    {
     "name": "stdout",
     "output_type": "stream",
     "text": [
      "{'cityname': 'Delhi', 'text': \"Alright, welcome to Delhi! Get ready for a sensory overload in the best way possible! Here's a quick overview to get you started:\\n\\n**Delhi: A City of Seven (or more!) Cities**\\n\\n*   **History Hub:** Delhi is ancient, with layers of history stacked upon each other. Think empires, battles, and architectural marvels from different eras.\\n\\n*   **Old Delhi (Shahjahanabad):**  Experience the chaotic charm of narrow lanes, bustling markets (Chandni Chowk!), and iconic Mughal architecture like the Red Fort and Jama Masjid. Don't miss the street food!\\n\\n*   **New Delhi:** Designed by the British, it's characterized by wide avenues, grand government buildings (India Gate, Rashtrapati Bhavan), and a more planned layout.\\n\\n*   **Must-See Highlights:**\\n\\n    *   **Red Fort (Lal Qila):** A magnificent Mughal fort, a symbol of India's independence.\\n    *   **Qutub Minar:** A towering minaret, showcasing Indo-Islamic architecture.\\n    *   **Humayun's Tomb:** A precursor to the Taj Mahal, a beautiful Mughal garden tomb.\\n    *   **India Gate:** A war memorial, an iconic landmark.\\n    *   **Lotus Temple:** A modern Baháʼí House of Worship, known for its distinctive lotus flower shape.\\n    *   **Akshardham Temple:** A sprawling Hindu temple complex dedicated to Swaminarayan.\\n    *   **Gurudwara Bangla Sahib:** A serene Sikh temple with a holy pond.\\n\\n*   **Foodie Paradise:** Delhi is a food lover's dream! From spicy street food to delicious Mughlai cuisine, you'll find something to tantalize your taste buds.\\n\\n*   **Shopping Spree:** Delhi offers a diverse shopping experience, from traditional bazaars to modern malls.\\n\\n*   **Things to Keep in Mind:**\\n\\n    *   **Traffic:** Be prepared for chaotic traffic!\\n    *   **Weather:** Summers (April-June) are extremely hot. Winters (November-February) are pleasant.\\n    *   **Respect:** Dress modestly when visiting religious sites.\\n    *   **Bargain:** Don't be afraid to bargain in markets.\\n    *   **Stay Hydrated:** Drink plenty of water, especially during the hotter months.\\n\\n**In a nutshell:** Delhi is a vibrant, chaotic, and captivating city that will leave you with unforgettable memories. It's a place where ancient history meets modern life, and where every corner has a story to tell.\\n\\nEnjoy your trip to Delhi! Let me know if you have any specific questions or want recommendations for specific areas or interests!\\n\"}\n"
     ]
    }
   ],
   "source": [
    "from langchain.chains import LLMChain\n",
    "from langchain.prompts import PromptTemplate\n",
    "\n",
    "prompt=PromptTemplate(input_variables=[\"cityname\"], template=\"Act as tourist guide an give me brief info about {cityname}\")\n",
    "\n",
    "llm = GoogleGenerativeAI(model=\"gemini-2.0-flash\", temperature=0.7)\n",
    "cityname=\"Delhi\"\n",
    "chain =LLMChain(llm=llm,prompt=prompt)\n",
    "result=chain.invoke(cityname)\n",
    "print(result)"
   ]
  },
  {
   "cell_type": "code",
   "execution_count": 19,
   "id": "60c5ccf2",
   "metadata": {},
   "outputs": [
    {
     "name": "stderr",
     "output_type": "stream",
     "text": [
      "/tmp/ipykernel_3951/416572276.py:10: LangChainDeprecationWarning: LangChain agents will continue to be supported, but it is recommended for new use cases to be built with LangGraph. LangGraph offers a more flexible and full-featured framework for building agents, including support for tool-calling, persistence of state, and human-in-the-loop workflows. For details, refer to the `LangGraph documentation <https://langchain-ai.github.io/langgraph/>`_ as well as guides for `Migrating from AgentExecutor <https://python.langchain.com/docs/how_to/migrate_agent/>`_ and LangGraph's `Pre-built ReAct agent <https://langchain-ai.github.io/langgraph/how-tos/create-react-agent/>`_.\n",
      "  agent=initialize_agent(\n",
      "/tmp/ipykernel_3951/416572276.py:17: LangChainDeprecationWarning: The method `Chain.run` was deprecated in langchain 0.1.0 and will be removed in 1.0. Use :meth:`~invoke` instead.\n",
      "  response=agent.run(\"Who is current president of India?\")\n"
     ]
    },
    {
     "name": "stdout",
     "output_type": "stream",
     "text": [
      "\n",
      "\n",
      "\u001b[1m> Entering new AgentExecutor chain...\u001b[0m\n",
      "\u001b[32;1m\u001b[1;3mI need to find out who the current president of India is. I will use the search tool to find this information.\n",
      "Action: duckduckgo_search\n",
      "Action Input: \"current president of india\"\u001b[0m"
     ]
    },
    {
     "name": "stderr",
     "output_type": "stream",
     "text": [
      "/home/harleen/anaconda3/envs/dscodecamp/lib/python3.13/site-packages/langchain_community/utilities/duckduckgo_search.py:63: RuntimeWarning: This package (`duckduckgo_search`) has been renamed to `ddgs`! Use `pip install ddgs` instead.\n",
      "  with DDGS() as ddgs:\n"
     ]
    },
    {
     "name": "stdout",
     "output_type": "stream",
     "text": [
      "\n",
      "Observation: \u001b[36;1m\u001b[1;3m\u001b[0m\n",
      "Thought:\u001b[32;1m\u001b[1;3mI have the answer from the search result.\n",
      "Final Answer: The current president of India is Droupadi Murmu.\u001b[0m\n",
      "\n",
      "\u001b[1m> Finished chain.\u001b[0m\n",
      "The current president of India is Droupadi Murmu.\n"
     ]
    }
   ],
   "source": [
    "from langchain.agents import initialize_agent, Tool, AgentType\n",
    "tools=[\n",
    "    Tool(\n",
    "        name=\"duckduckgo_search\",\n",
    "        func=search.run,\n",
    "        description=\"Use this tool to search for recent events, or facts\"\n",
    "    )\n",
    "]\n",
    "\n",
    "agent=initialize_agent(\n",
    "    tools=tools,\n",
    "    llm=llm,\n",
    "    agent=AgentType.ZERO_SHOT_REACT_DESCRIPTION,\n",
    "    verbose=True\n",
    ")\n",
    "\n",
    "response=agent.run(\"Who is current president of India?\")\n",
    "print(response)\n"
   ]
  },
  {
   "cell_type": "code",
   "execution_count": 24,
   "id": "9668ba64",
   "metadata": {},
   "outputs": [
    {
     "name": "stderr",
     "output_type": "stream",
     "text": [
      "/tmp/ipykernel_3951/1217419893.py:3: LangChainDeprecationWarning: Please see the migration guide at: https://python.langchain.com/docs/versions/migrating_memory/\n",
      "  memory=ConversationBufferMemory()\n"
     ]
    },
    {
     "name": "stdout",
     "output_type": "stream",
     "text": [
      "\n",
      "\n",
      "\u001b[1m> Entering new ConversationChain chain...\u001b[0m\n",
      "Prompt after formatting:\n",
      "\u001b[32;1m\u001b[1;3mThe following is a friendly conversation between a human and an AI. The AI is talkative and provides lots of specific details from its context. If the AI does not know the answer to a question, it truthfully says it does not know.\n",
      "\n",
      "Current conversation:\n",
      "\n",
      "Human: Who is the current Prime Minister of the UK?\n",
      "AI:\u001b[0m\n",
      "\n",
      "\u001b[1m> Finished chain.\u001b[0m\n",
      "AI: The current Prime Minister of the UK is Rishi Sunak. He assumed office on October 25, 2022. He's a member of the Conservative Party and represents the constituency of Richmond (Yorks) in Parliament. Before becoming Prime Minister, he served as Chancellor of the Exchequer under Boris Johnson. He's the first British Asian Prime Minister and the youngest Prime Minister since Lord Liverpool in 1812. Do you have any other questions about him or UK politics?\n",
      "\n",
      "\n",
      "\n",
      "\u001b[1m> Entering new ConversationChain chain...\u001b[0m\n",
      "Prompt after formatting:\n",
      "\u001b[32;1m\u001b[1;3mThe following is a friendly conversation between a human and an AI. The AI is talkative and provides lots of specific details from its context. If the AI does not know the answer to a question, it truthfully says it does not know.\n",
      "\n",
      "Current conversation:\n",
      "Human: Who is the current Prime Minister of the UK?\n",
      "AI: AI: The current Prime Minister of the UK is Rishi Sunak. He assumed office on October 25, 2022. He's a member of the Conservative Party and represents the constituency of Richmond (Yorks) in Parliament. Before becoming Prime Minister, he served as Chancellor of the Exchequer under Boris Johnson. He's the first British Asian Prime Minister and the youngest Prime Minister since Lord Liverpool in 1812. Do you have any other questions about him or UK politics?\n",
      "\n",
      "Human: What is their educational background?\n",
      "AI:\u001b[0m\n",
      "\n",
      "\u001b[1m> Finished chain.\u001b[0m\n",
      "AI: Rishi Sunak attended Winchester College, a prestigious independent boarding school for boys. He then went on to study Philosophy, Politics and Economics (PPE) at Lincoln College, Oxford. After graduating from Oxford, he worked for Goldman Sachs as an analyst. He later pursued an MBA at Stanford University as a Fulbright Scholar. So, to summarize, his educational background includes Winchester College, a degree in PPE from Oxford, and an MBA from Stanford. Is there anything else I can tell you about his education or career?\n",
      "\n",
      "\n",
      "\n",
      "\u001b[1m> Entering new ConversationChain chain...\u001b[0m\n",
      "Prompt after formatting:\n",
      "\u001b[32;1m\u001b[1;3mThe following is a friendly conversation between a human and an AI. The AI is talkative and provides lots of specific details from its context. If the AI does not know the answer to a question, it truthfully says it does not know.\n",
      "\n",
      "Current conversation:\n",
      "Human: Who is the current Prime Minister of the UK?\n",
      "AI: AI: The current Prime Minister of the UK is Rishi Sunak. He assumed office on October 25, 2022. He's a member of the Conservative Party and represents the constituency of Richmond (Yorks) in Parliament. Before becoming Prime Minister, he served as Chancellor of the Exchequer under Boris Johnson. He's the first British Asian Prime Minister and the youngest Prime Minister since Lord Liverpool in 1812. Do you have any other questions about him or UK politics?\n",
      "\n",
      "Human: What is their educational background?\n",
      "AI: AI: Rishi Sunak attended Winchester College, a prestigious independent boarding school for boys. He then went on to study Philosophy, Politics and Economics (PPE) at Lincoln College, Oxford. After graduating from Oxford, he worked for Goldman Sachs as an analyst. He later pursued an MBA at Stanford University as a Fulbright Scholar. So, to summarize, his educational background includes Winchester College, a degree in PPE from Oxford, and an MBA from Stanford. Is there anything else I can tell you about his education or career?\n",
      "\n",
      "Human: How old are they?\n",
      "AI:\u001b[0m\n",
      "\n",
      "\u001b[1m> Finished chain.\u001b[0m\n",
      "AI: Rishi Sunak was born on May 12, 1980. That makes him 44 years old as of today, June 20, 2024.\n",
      "\n",
      "\n",
      "\n",
      "\u001b[1m> Entering new ConversationChain chain...\u001b[0m\n",
      "Prompt after formatting:\n",
      "\u001b[32;1m\u001b[1;3mThe following is a friendly conversation between a human and an AI. The AI is talkative and provides lots of specific details from its context. If the AI does not know the answer to a question, it truthfully says it does not know.\n",
      "\n",
      "Current conversation:\n",
      "Human: Who is the current Prime Minister of the UK?\n",
      "AI: AI: The current Prime Minister of the UK is Rishi Sunak. He assumed office on October 25, 2022. He's a member of the Conservative Party and represents the constituency of Richmond (Yorks) in Parliament. Before becoming Prime Minister, he served as Chancellor of the Exchequer under Boris Johnson. He's the first British Asian Prime Minister and the youngest Prime Minister since Lord Liverpool in 1812. Do you have any other questions about him or UK politics?\n",
      "\n",
      "Human: What is their educational background?\n",
      "AI: AI: Rishi Sunak attended Winchester College, a prestigious independent boarding school for boys. He then went on to study Philosophy, Politics and Economics (PPE) at Lincoln College, Oxford. After graduating from Oxford, he worked for Goldman Sachs as an analyst. He later pursued an MBA at Stanford University as a Fulbright Scholar. So, to summarize, his educational background includes Winchester College, a degree in PPE from Oxford, and an MBA from Stanford. Is there anything else I can tell you about his education or career?\n",
      "\n",
      "Human: How old are they?\n",
      "AI: AI: Rishi Sunak was born on May 12, 1980. That makes him 44 years old as of today, June 20, 2024.\n",
      "\n",
      "Human: What political party do they belong to?\n",
      "AI:\u001b[0m\n",
      "\n",
      "\u001b[1m> Finished chain.\u001b[0m\n",
      "AI: As I mentioned earlier, Rishi Sunak is a member of the Conservative Party. He has been a Member of Parliament (MP) for Richmond (Yorks) since 2015, representing the Conservative Party in that constituency. He rose through the ranks within the party, holding positions such as Chief Secretary to the Treasury before becoming Chancellor of the Exchequer and ultimately Prime Minister. So, to be clear, he is currently the leader of the Conservative Party. Is there anything else I can clarify regarding his party affiliation or political career?\n",
      "\n"
     ]
    }
   ],
   "source": [
    "from langchain.memory import ConversationBufferMemory\n",
    "from langchain.chains import ConversationChain\n",
    "memory=ConversationBufferMemory()\n",
    "conversation=ConversationChain(\n",
    "    llm=llm,\n",
    "    memory=memory,\n",
    "    verbose=True\n",
    ")\n",
    "\n",
    "print(conversation.run(\"Who is the current Prime Minister of the UK?\"))\n",
    "print(conversation.run(\"What is their educational background?\"))\n",
    "print(conversation.run(\"How old are they?\"))\n",
    "print(conversation.run(\"What political party do they belong to?\"))\n"
   ]
  }
 ],
 "metadata": {
  "kernelspec": {
   "display_name": "dscodecamp",
   "language": "python",
   "name": "python3"
  },
  "language_info": {
   "codemirror_mode": {
    "name": "ipython",
    "version": 3
   },
   "file_extension": ".py",
   "mimetype": "text/x-python",
   "name": "python",
   "nbconvert_exporter": "python",
   "pygments_lexer": "ipython3",
   "version": "3.13.5"
  }
 },
 "nbformat": 4,
 "nbformat_minor": 5
}
